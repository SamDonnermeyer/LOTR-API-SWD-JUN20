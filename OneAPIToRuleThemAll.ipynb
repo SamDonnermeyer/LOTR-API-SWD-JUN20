{
 "cells": [
  {
   "cell_type": "code",
   "execution_count": null,
   "metadata": {},
   "outputs": [],
   "source": [
    "## API Request to Get LOTR Data from LOTRAPI ## \n",
    "\n",
    "\"\"\"\n",
    "https://the-one-api.herokuapp.com/documentation \n",
    "Bearer Token - acess Key\n",
    "\n",
    "Endpoint\tResponse\tToken required\n",
    "/book\tList of all \"The Lord of the Rings\" books\tno\n",
    "/book/{id}\tRequest one specific book\tno\n",
    "/book/{id}/chapter\tRequest all chapters of one specific book\tno\n",
    "/movie\tList of all movies, including the \"The Lord of the Rings\" and the \"The Hobbit\" trilogies\tyes\n",
    "/movie/{id}\tRequest one specific movie\tyes\n",
    "/movie/{id}/quote\tRequest all movie quotes for one specific movie (only working for the LotR trilogy)\tyes\n",
    "/character\tList of characters including metadata like name, gender, realm, race and more\tyes\n",
    "/character/{id}\tRequest one specific character\tyes\n",
    "/character/{id}/quote\tRequest all movie quotes of one specific character\tyes\n",
    "/quote\tList of all movie quotes\tyes\n",
    "/quote/{id}\tRequest one specific movie quote\tyes\n",
    "/chapter\tList of all book chapters\tyes\n",
    "/chapter/{id}\tRequest one specific book chapter\tyes\n",
    "\n",
    "\"\"\""
   ]
  },
  {
   "cell_type": "code",
   "execution_count": null,
   "metadata": {},
   "outputs": [],
   "source": [
    "# Import Packages #\n",
    "import io\n",
    "import json\n",
    "from lxml import html\n",
    "import numpy as np\n",
    "import pandas as pd\n",
    "import requests"
   ]
  },
  {
   "cell_type": "code",
   "execution_count": null,
   "metadata": {},
   "outputs": [],
   "source": [
    "# API Variables # \n",
    "api_key = \"Bearer Token\"\n",
    "endpoint = [\"book\", \"character\", \"movie\", \"quote\"]\n",
    "api_url_base = \"https://the-one-api.herokuapp.com/v1/\"\n",
    "headers = {\"Authorization\": \"Bearer {}\".format(api_key)}\n",
    "\n",
    "# Loop to gather data for each endpoint\n",
    "for api_end in endpoint:\n",
    "    # Initialize the url\n",
    "    api_url = \"{}{}\".format(api_url_base, api_end)\n",
    "    \n",
    "    # Request API \n",
    "    r = requests.get(api_url, headers = headers)\n",
    "    \n",
    "    # Check status of request\n",
    "    if r.status_code == 200: \n",
    "        # Put the request into json format\n",
    "        r_json = r.json()\n",
    "        # Json -> df\n",
    "        lotr_df = pd.DataFrame(r_json[\"docs\"])\n",
    "        lotr_df.to_csv(\"LOTR_{}_.csv\".format(api_end), index=False)\n",
    "    else: \n",
    "        print(\"ERROR: Status {} with {} endpoint.\".format(r.status_code, api_end))"
   ]
  }
 ],
 "metadata": {
  "kernelspec": {
   "display_name": "Python 3",
   "language": "python",
   "name": "python3"
  },
  "language_info": {
   "codemirror_mode": {
    "name": "ipython",
    "version": 3
   },
   "file_extension": ".py",
   "mimetype": "text/x-python",
   "name": "python",
   "nbconvert_exporter": "python",
   "pygments_lexer": "ipython3",
   "version": "3.7.4"
  }
 },
 "nbformat": 4,
 "nbformat_minor": 4
}
